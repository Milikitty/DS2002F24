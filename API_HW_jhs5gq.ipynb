{
  "nbformat": 4,
  "nbformat_minor": 0,
  "metadata": {
    "colab": {
      "provenance": [],
      "authorship_tag": "ABX9TyMOp8HCMmjp/oLEszS87ACf",
      "include_colab_link": true
    },
    "kernelspec": {
      "name": "python3",
      "display_name": "Python 3"
    },
    "language_info": {
      "name": "python"
    }
  },
  "cells": [
    {
      "cell_type": "markdown",
      "metadata": {
        "id": "view-in-github",
        "colab_type": "text"
      },
      "source": [
        "<a href=\"https://colab.research.google.com/github/Milikitty/DS2002F24/blob/main/API_HW_jhs5gq.ipynb\" target=\"_parent\"><img src=\"https://colab.research.google.com/assets/colab-badge.svg\" alt=\"Open In Colab\"/></a>"
      ]
    },
    {
      "cell_type": "code",
      "execution_count": null,
      "metadata": {
        "id": "cNwHlx4UV_Nz"
      },
      "outputs": [],
      "source": [
        "#Challenge:\n",
        "#You have seen some examples of how to interact with JSON, CSV and make API Calls. Take some time to explore the YAHOO Finance Guide at https://financeapi.net/ which shows you endpoints for calling information. Your job is to code a Python Program that does the following things:\n",
        "\n",
        "#1.\t#Takes user input for a stock (using the Ticker Symbol): IE with the input() command\n",
        "#2.\t#You will display back the user: Ticker Name, Full Name of the Stock, Current Market Price, Target Mean Price, 52 week high and 52 week low. Also, output 5 of the current trending stock.\n",
        "#3.\t#Put that data in a DataFrame and then store that to a CSV file\n",
        "#4.\t#Handle Errors (IE, the stock doesn’t exist and/or the API is not returning information)\n"
      ]
    },
    {
      "cell_type": "code",
      "source": [
        "#Place Ticker here\n",
        "import requests\n",
        "import json\n",
        "import pandas as pd\n",
        "\n",
        "stock = input()"
      ],
      "metadata": {
        "colab": {
          "base_uri": "https://localhost:8080/"
        },
        "id": "-NhD7LE3Y3qU",
        "outputId": "53fef72f-1a52-41a8-91c8-3c828668616e"
      },
      "execution_count": 27,
      "outputs": [
        {
          "name": "stdout",
          "output_type": "stream",
          "text": [
            "AAPL\n"
          ]
        }
      ]
    },
    {
      "cell_type": "code",
      "source": [
        "#User input stocks target mean price\n",
        "import requests\n",
        "import json\n",
        "import pandas as pd\n",
        "\n",
        "def get_stock_info(stock):\n",
        "    url = f\"https://yfapi.net/v11/finance/quoteSummary/{stock}?lang=EN&region=US&modules=financialData\"\n",
        "    headers= {\"X-API-KEY\": \"SmmJNVGwzI28hUSRhK5VD94JSl5ksuzM6lbxoykS\"}\n",
        "    response = requests.get(url, headers=headers)\n",
        "    if response.status_code == 200:\n",
        "        data = response.json()\n",
        "        try:\n",
        "            financial_data = data['quoteSummary']['result'][0]['financialData']\n",
        "            target_mean_price = financial_data['targetMeanPrice']['raw']\n",
        "            return {\n",
        "                \"Stock Name\" : stock,\n",
        "                \"Target Mean Price\" : target_mean_price,\n",
        "            }\n",
        "        except KeyError:\n",
        "            return {\"error\" : \"unable to find target mean price\"}\n",
        "    else:\n",
        "        return {\"error\": \"Failed to fetch data\"}\n",
        "\n",
        "stock_info = get_stock_info(stock)\n",
        "print(stock_info)"
      ],
      "metadata": {
        "colab": {
          "base_uri": "https://localhost:8080/"
        },
        "id": "RRJ-WSyXodMq",
        "outputId": "7f4642e5-f8b9-4ff6-8c59-23677492bba5"
      },
      "execution_count": 28,
      "outputs": [
        {
          "output_type": "stream",
          "name": "stdout",
          "text": [
            "{'Stock Name': 'AAPL', 'Target Mean Price': 240.58}\n"
          ]
        }
      ]
    },
    {
      "cell_type": "code",
      "source": [
        "#Place Ticker here\n",
        "import requests\n",
        "import json\n",
        "import pandas as pd\n",
        "\n",
        "stock = input()"
      ],
      "metadata": {
        "colab": {
          "base_uri": "https://localhost:8080/"
        },
        "id": "lnA0oJHGl3h0",
        "outputId": "07edcff2-c61f-4a27-da90-12610e8af2f9"
      },
      "execution_count": 35,
      "outputs": [
        {
          "name": "stdout",
          "output_type": "stream",
          "text": [
            "AAPL\n"
          ]
        }
      ]
    },
    {
      "cell_type": "code",
      "source": [
        "import requests\n",
        "import json\n",
        "import pandas as pd\n",
        "\n",
        "def get_stock_summary(stock):\n",
        "    url = f\"https://yfapi.net/v6/finance/quote?region=US&lang=en&symbols={stock}\"\n",
        "    headers= {\"X-API-KEY\": \"SmmJNVGwzI28hUSRhK5VD94JSl5ksuzM6lbxoykS\"}\n",
        "    response = requests.get(url, headers=headers)\n",
        "    if response.status_code == 200:\n",
        "        data = response.json()\n",
        "        try:\n",
        "            summary_data = data['quoteResponse']['result'][0]\n",
        "            stock_name = summary_data['longName']\n",
        "            current_price = summary_data['regularMarketPrice']\n",
        "            fifty_two_week_high = summary_data['fiftyTwoWeekHigh']\n",
        "            fifty_two_week_low = summary_data['fiftyTwoWeekLow']\n",
        "\n",
        "            return {\n",
        "                \"Stock Name\" : stock_name,\n",
        "                \"Current Price\" : current_price,\n",
        "                \"52 Week High\" : fifty_two_week_high,\n",
        "                \"52 Week Low\": fifty_two_week_low,\n",
        "            }\n",
        "        except KeyError:\n",
        "            return {\"error\" : \"unable to find target mean price\"}\n",
        "    else:\n",
        "        return {\"error\": f\"Failed to fetch data\"}\n",
        "\n",
        "stock_summary = get_stock_summary(stock)\n",
        "print(stock_summary)"
      ],
      "metadata": {
        "colab": {
          "base_uri": "https://localhost:8080/"
        },
        "id": "IAgdF0Tol4Vx",
        "outputId": "5e096be6-dee4-46b9-fe91-ae611ce6fafa"
      },
      "execution_count": 38,
      "outputs": [
        {
          "output_type": "stream",
          "name": "stdout",
          "text": [
            "{'Stock Name': 'Apple Inc.', 'Current Price': 227.725, '52 Week High': 237.23, '52 Week Low': 164.08}\n"
          ]
        }
      ]
    },
    {
      "cell_type": "code",
      "source": [
        "stock_summary[\"Target Mean Price\"] = stock_info\n",
        "df = pd.DataFrame([stock_summary])\n",
        "df.to_csv('stock_summary.csv', index=False)\n",
        "print(df)"
      ],
      "metadata": {
        "colab": {
          "base_uri": "https://localhost:8080/"
        },
        "id": "ClhbBOQmpzMc",
        "outputId": "a1da74a8-c63e-4c45-c524-6989ac3f94a4"
      },
      "execution_count": 42,
      "outputs": [
        {
          "output_type": "stream",
          "name": "stdout",
          "text": [
            "   Stock Name  Current Price  52 Week High  52 Week Low  \\\n",
            "0  Apple Inc.        227.725        237.23       164.08   \n",
            "\n",
            "                                   Target Mean Price  \n",
            "0  {'Stock Name': 'AAPL', 'Target Mean Price': 24...  \n"
          ]
        }
      ]
    },
    {
      "cell_type": "code",
      "source": [
        "#1\n",
        "import requests\n",
        "import json\n",
        "import pandas as pd\n",
        "import matplotlib.pyplot as plt\n",
        "\n",
        "\n",
        "def get_trending_stocks():\n",
        "  url = \"https://yfapi.net/v1/finance/trending/US\"\n",
        "  headers = {\"X-API-KEY\": \"SmmJNVGwzI28hUSRhK5VD94JSl5ksuzM6lbxoykS\"}\n",
        "  response = requests.request(\"GET\", url, headers= headers)\n",
        "  if response.status_code == 200:\n",
        "    data = response.json()\n",
        "    try:\n",
        "      trending_data = data['finance']['result'][0]['quotes'][:5]\n",
        "      return trending_data\n",
        "    except KeyError:\n",
        "      return {\"error\" : \"unable to fid target mean price\"}\n",
        "  else:\n",
        "    return {\"error\": \"Failed to fetch data\"}\n",
        "\n",
        "trending_stocks = get_trending_stocks()\n",
        "print(trending_stocks)\n"
      ],
      "metadata": {
        "colab": {
          "base_uri": "https://localhost:8080/"
        },
        "id": "lv9ulHTVXhOS",
        "outputId": "4642f444-750b-406f-affb-a3e4539053a7"
      },
      "execution_count": 31,
      "outputs": [
        {
          "output_type": "stream",
          "name": "stdout",
          "text": [
            "[{'symbol': '^N225'}, {'symbol': 'NQ=F'}, {'symbol': 'ES=F'}, {'symbol': 'AMSC'}, {'symbol': 'BTC-USD'}]\n"
          ]
        }
      ]
    },
    {
      "cell_type": "code",
      "source": [
        "#Data frame and CSV for the top 5\n",
        "df = pd.DataFrame(trending_stocks)\n",
        "df.to_csv('trending_stocks.csv', index=False)\n",
        "print(df)"
      ],
      "metadata": {
        "colab": {
          "base_uri": "https://localhost:8080/"
        },
        "id": "Ky8MSux3pgTw",
        "outputId": "501def47-8620-47fb-f942-04696a035262"
      },
      "execution_count": 40,
      "outputs": [
        {
          "output_type": "stream",
          "name": "stdout",
          "text": [
            "    symbol\n",
            "0    ^N225\n",
            "1     NQ=F\n",
            "2     ES=F\n",
            "3     AMSC\n",
            "4  BTC-USD\n"
          ]
        }
      ]
    }
  ]
}